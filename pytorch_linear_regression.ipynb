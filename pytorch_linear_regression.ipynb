{
  "cells": [
    {
      "cell_type": "markdown",
      "metadata": {
        "id": "view-in-github",
        "colab_type": "text"
      },
      "source": [
        "<a href=\"https://colab.research.google.com/github/SHEHAN-120/linear-regression-from-scratch-pytorch/blob/main/pytorch_linear_regression.ipynb\" target=\"_parent\"><img src=\"https://colab.research.google.com/assets/colab-badge.svg\" alt=\"Open In Colab\"/></a>"
      ]
    },
    {
      "cell_type": "code",
      "source": [
        "import torch"
      ],
      "metadata": {
        "id": "BaI47uML2fiS"
      },
      "execution_count": null,
      "outputs": []
    },
    {
      "cell_type": "code",
      "source": [
        "torch.__version__"
      ],
      "metadata": {
        "id": "2q87vuOo3HRO",
        "outputId": "9cd3ef01-e689-429f-b625-43131d767f56",
        "colab": {
          "base_uri": "https://localhost:8080/",
          "height": 35
        }
      },
      "execution_count": null,
      "outputs": [
        {
          "output_type": "execute_result",
          "data": {
            "text/plain": [
              "'2.6.0+cu124'"
            ],
            "application/vnd.google.colaboratory.intrinsic+json": {
              "type": "string"
            }
          },
          "metadata": {},
          "execution_count": 2
        }
      ]
    },
    {
      "cell_type": "code",
      "source": [
        "X=torch.linspace(0,10,100).reshape(-1,1)\n",
        "y=2*X+1+torch.randn(X.size())"
      ],
      "metadata": {
        "id": "sNW2M5w4vGHY"
      },
      "execution_count": null,
      "outputs": []
    },
    {
      "cell_type": "code",
      "source": [
        "X"
      ],
      "metadata": {
        "id": "I0Z6JNz7vXbI",
        "outputId": "aca7f4f0-77fa-4018-cc68-b022e71caf82",
        "colab": {
          "base_uri": "https://localhost:8080/"
        }
      },
      "execution_count": null,
      "outputs": [
        {
          "output_type": "execute_result",
          "data": {
            "text/plain": [
              "tensor([[ 0.0000],\n",
              "        [ 0.1010],\n",
              "        [ 0.2020],\n",
              "        [ 0.3030],\n",
              "        [ 0.4040],\n",
              "        [ 0.5051],\n",
              "        [ 0.6061],\n",
              "        [ 0.7071],\n",
              "        [ 0.8081],\n",
              "        [ 0.9091],\n",
              "        [ 1.0101],\n",
              "        [ 1.1111],\n",
              "        [ 1.2121],\n",
              "        [ 1.3131],\n",
              "        [ 1.4141],\n",
              "        [ 1.5152],\n",
              "        [ 1.6162],\n",
              "        [ 1.7172],\n",
              "        [ 1.8182],\n",
              "        [ 1.9192],\n",
              "        [ 2.0202],\n",
              "        [ 2.1212],\n",
              "        [ 2.2222],\n",
              "        [ 2.3232],\n",
              "        [ 2.4242],\n",
              "        [ 2.5253],\n",
              "        [ 2.6263],\n",
              "        [ 2.7273],\n",
              "        [ 2.8283],\n",
              "        [ 2.9293],\n",
              "        [ 3.0303],\n",
              "        [ 3.1313],\n",
              "        [ 3.2323],\n",
              "        [ 3.3333],\n",
              "        [ 3.4343],\n",
              "        [ 3.5354],\n",
              "        [ 3.6364],\n",
              "        [ 3.7374],\n",
              "        [ 3.8384],\n",
              "        [ 3.9394],\n",
              "        [ 4.0404],\n",
              "        [ 4.1414],\n",
              "        [ 4.2424],\n",
              "        [ 4.3434],\n",
              "        [ 4.4444],\n",
              "        [ 4.5455],\n",
              "        [ 4.6465],\n",
              "        [ 4.7475],\n",
              "        [ 4.8485],\n",
              "        [ 4.9495],\n",
              "        [ 5.0505],\n",
              "        [ 5.1515],\n",
              "        [ 5.2525],\n",
              "        [ 5.3535],\n",
              "        [ 5.4545],\n",
              "        [ 5.5556],\n",
              "        [ 5.6566],\n",
              "        [ 5.7576],\n",
              "        [ 5.8586],\n",
              "        [ 5.9596],\n",
              "        [ 6.0606],\n",
              "        [ 6.1616],\n",
              "        [ 6.2626],\n",
              "        [ 6.3636],\n",
              "        [ 6.4646],\n",
              "        [ 6.5657],\n",
              "        [ 6.6667],\n",
              "        [ 6.7677],\n",
              "        [ 6.8687],\n",
              "        [ 6.9697],\n",
              "        [ 7.0707],\n",
              "        [ 7.1717],\n",
              "        [ 7.2727],\n",
              "        [ 7.3737],\n",
              "        [ 7.4747],\n",
              "        [ 7.5758],\n",
              "        [ 7.6768],\n",
              "        [ 7.7778],\n",
              "        [ 7.8788],\n",
              "        [ 7.9798],\n",
              "        [ 8.0808],\n",
              "        [ 8.1818],\n",
              "        [ 8.2828],\n",
              "        [ 8.3838],\n",
              "        [ 8.4848],\n",
              "        [ 8.5859],\n",
              "        [ 8.6869],\n",
              "        [ 8.7879],\n",
              "        [ 8.8889],\n",
              "        [ 8.9899],\n",
              "        [ 9.0909],\n",
              "        [ 9.1919],\n",
              "        [ 9.2929],\n",
              "        [ 9.3939],\n",
              "        [ 9.4949],\n",
              "        [ 9.5960],\n",
              "        [ 9.6970],\n",
              "        [ 9.7980],\n",
              "        [ 9.8990],\n",
              "        [10.0000]])"
            ]
          },
          "metadata": {},
          "execution_count": 5
        }
      ]
    },
    {
      "cell_type": "code",
      "source": [
        "y"
      ],
      "metadata": {
        "id": "4kPo5X42veUT",
        "outputId": "a58ef441-e790-433c-f385-19517251219d",
        "colab": {
          "base_uri": "https://localhost:8080/"
        }
      },
      "execution_count": null,
      "outputs": [
        {
          "output_type": "execute_result",
          "data": {
            "text/plain": [
              "tensor([[ 1.8186],\n",
              "        [ 1.7712],\n",
              "        [ 0.8663],\n",
              "        [ 1.6306],\n",
              "        [ 4.0242],\n",
              "        [ 1.1900],\n",
              "        [ 1.1212],\n",
              "        [ 2.7324],\n",
              "        [ 3.3326],\n",
              "        [ 1.4680],\n",
              "        [ 3.3358],\n",
              "        [ 4.9281],\n",
              "        [ 3.2883],\n",
              "        [ 4.1023],\n",
              "        [ 6.0433],\n",
              "        [ 3.9379],\n",
              "        [ 3.9963],\n",
              "        [ 4.9809],\n",
              "        [ 5.6486],\n",
              "        [ 6.0274],\n",
              "        [ 5.2994],\n",
              "        [ 4.9357],\n",
              "        [ 5.0474],\n",
              "        [ 7.0131],\n",
              "        [ 6.2905],\n",
              "        [ 6.8742],\n",
              "        [ 5.3649],\n",
              "        [ 5.7492],\n",
              "        [ 6.9218],\n",
              "        [ 6.5799],\n",
              "        [ 6.5416],\n",
              "        [ 6.7394],\n",
              "        [ 7.1914],\n",
              "        [ 6.9541],\n",
              "        [ 7.9392],\n",
              "        [ 8.6692],\n",
              "        [ 8.0618],\n",
              "        [ 9.1425],\n",
              "        [ 8.3583],\n",
              "        [ 8.0570],\n",
              "        [ 8.5040],\n",
              "        [ 9.2362],\n",
              "        [ 9.2357],\n",
              "        [ 8.7762],\n",
              "        [ 9.0042],\n",
              "        [11.4337],\n",
              "        [11.8702],\n",
              "        [10.9646],\n",
              "        [10.8359],\n",
              "        [11.2693],\n",
              "        [11.2768],\n",
              "        [10.1653],\n",
              "        [11.5662],\n",
              "        [11.9845],\n",
              "        [11.1753],\n",
              "        [12.0052],\n",
              "        [12.9217],\n",
              "        [12.7239],\n",
              "        [12.1074],\n",
              "        [13.1103],\n",
              "        [12.8322],\n",
              "        [14.1716],\n",
              "        [12.5219],\n",
              "        [14.0770],\n",
              "        [14.1010],\n",
              "        [14.5776],\n",
              "        [13.6279],\n",
              "        [14.6245],\n",
              "        [16.4039],\n",
              "        [15.3325],\n",
              "        [15.5432],\n",
              "        [15.2184],\n",
              "        [16.5521],\n",
              "        [15.7117],\n",
              "        [15.5370],\n",
              "        [15.2249],\n",
              "        [15.7243],\n",
              "        [16.7893],\n",
              "        [16.5768],\n",
              "        [16.2504],\n",
              "        [17.7297],\n",
              "        [16.7417],\n",
              "        [19.5647],\n",
              "        [18.1914],\n",
              "        [16.0629],\n",
              "        [17.4610],\n",
              "        [17.3591],\n",
              "        [18.7347],\n",
              "        [19.4228],\n",
              "        [18.5458],\n",
              "        [18.5553],\n",
              "        [19.7770],\n",
              "        [19.8296],\n",
              "        [20.0753],\n",
              "        [19.9200],\n",
              "        [21.0281],\n",
              "        [20.2291],\n",
              "        [21.6706],\n",
              "        [20.7256],\n",
              "        [21.0637]])"
            ]
          },
          "metadata": {},
          "execution_count": 6
        }
      ]
    },
    {
      "cell_type": "code",
      "source": [
        "X_train,X_test,y_train,y_test=train_test_split(X.numpy(),y.numpy(),test_size=0.2,random_state=42)"
      ],
      "metadata": {
        "id": "wwC1PzwRvf3f"
      },
      "execution_count": null,
      "outputs": []
    },
    {
      "cell_type": "code",
      "source": [
        "X_train=torch.tensor(X_train,dtype=torch.float32)\n",
        "X_test=torch.tensor(X_test,dtype=torch.float32)\n",
        "y_train=torch.tensor(y_train,dtype=torch.float32)\n",
        "y_test=torch.tensor(y_test,dtype=torch.float32)"
      ],
      "metadata": {
        "id": "R0nXLJVov-Zm"
      },
      "execution_count": null,
      "outputs": []
    },
    {
      "cell_type": "code",
      "source": [
        "plt.scatter(X_train.numpy(),y_train.numpy(),label='Training Data')\n",
        "plt.scatter(X_test.numpy(),y_test.numpy(),label='Test Data',color='red')\n",
        "plt.title('Toy dataset')\n",
        "plt.xlabel('X')\n",
        "plt.ylabel('y')\n",
        "plt.legend()\n",
        "plt.show()"
      ],
      "metadata": {
        "id": "3ncRu0DGwjW6",
        "outputId": "6654b7a0-add9-45ff-85cc-10b03e63e86b",
        "colab": {
          "base_uri": "https://localhost:8080/",
          "height": 472
        }
      },
      "execution_count": null,
      "outputs": [
        {
          "output_type": "display_data",
          "data": {
            "text/plain": [
              "<Figure size 640x480 with 1 Axes>"
            ],
            "image/png": "[encoded data removed]"
          },
          "metadata": {}
        }
      ]
    },
    {
      "cell_type": "code",
      "source": [
        "import torch.nn as nn"
      ],
      "metadata": {
        "id": "A1MtxdR7xPs_"
      },
      "execution_count": null,
      "outputs": []
    },
    {
      "cell_type": "code",
      "source": [
        "class LRModel(nn.Module):\n",
        "  def __init__(self,input_dim,output_dim):\n",
        "    super(LRModel,self).__init__()\n",
        "    self.linear=nn.Linear(input_dim,output_dim)\n",
        "\n",
        "  def forward(self,x):\n",
        "    out=self.linear(x)\n",
        "    return out"
      ],
      "metadata": {
        "id": "ueykQbLAxk9v"
      },
      "execution_count": null,
      "outputs": []
    },
    {
      "cell_type": "code",
      "source": [
        "input_dim=1\n",
        "output_dim=1\n",
        "lr_model=LRModel(input_dim,output_dim)"
      ],
      "metadata": {
        "id": "v-ZA6twPyx3A"
      },
      "execution_count": null,
      "outputs": []
    },
    {
      "cell_type": "code",
      "source": [
        "with torch.no_grad():\n",
        "  untrained_pred=lr_model(X_test)\n",
        "\n",
        "plt.scatter(X_train.numpy(),y_train.numpy(),label='Training Data')\n",
        "plt.scatter(X_test.numpy(),y_test.numpy(),label='Test Data',color='red')\n",
        "\n",
        "plt.scatter(X_test.numpy(),untrained_pred.numpy(),label='Untrained Model Predictions',color='blue')\n",
        "\n",
        "plt.title('Untrained Linear Regression Model Predictions')\n",
        "plt.xlabel('X')\n",
        "plt.ylabel('y')\n",
        "plt.legend()\n",
        "plt.show()\n"
      ],
      "metadata": {
        "id": "-8JuFqAnzBmM",
        "outputId": "e8adc2dc-f71b-4fb7-a418-725beeed6723",
        "colab": {
          "base_uri": "https://localhost:8080/",
          "height": 472
        }
      },
      "execution_count": null,
      "outputs": [
        {
          "output_type": "display_data",
          "data": {
            "text/plain": [
              "<Figure size 640x480 with 1 Axes>"
            ],
            "image/png": "[encoded data removed]"
          },
          "metadata": {}
        }
      ]
    },
    {
      "cell_type": "code",
      "source": [
        "with torch.no_grad():\n",
        "  untrained_pred=lr_model(X_test)"
      ],
      "metadata": {
        "id": "YwTwMYjs1DXt"
      },
      "execution_count": null,
      "outputs": []
    },
    {
      "cell_type": "code",
      "source": [
        "criterion=nn.MSELoss()"
      ],
      "metadata": {
        "id": "ZrT1dlPm1atP"
      },
      "execution_count": null,
      "outputs": []
    },
    {
      "cell_type": "code",
      "source": [
        "loss=criterion(untrained_pred,y_test)"
      ],
      "metadata": {
        "id": "vD3E9koF2OXb"
      },
      "execution_count": null,
      "outputs": []
    },
    {
      "cell_type": "code",
      "source": [
        "loss"
      ],
      "metadata": {
        "id": "kmK2aeb52clU",
        "outputId": "da21859d-8e98-4dfa-c2ae-4a095476469c",
        "colab": {
          "base_uri": "https://localhost:8080/"
        }
      },
      "execution_count": null,
      "outputs": [
        {
          "output_type": "execute_result",
          "data": {
            "text/plain": [
              "tensor(213.1452)"
            ]
          },
          "metadata": {},
          "execution_count": 26
        }
      ]
    },
    {
      "cell_type": "code",
      "source": [
        "import torch.optim as optim"
      ],
      "metadata": {
        "id": "lZFy16fe2d0w"
      },
      "execution_count": null,
      "outputs": []
    },
    {
      "cell_type": "code",
      "source": [
        "optimizer=optim.SGD(lr_model.parameters(),lr=0.01)"
      ],
      "metadata": {
        "id": "PucYgljC2qCp"
      },
      "execution_count": null,
      "outputs": []
    },
    {
      "cell_type": "code",
      "source": [
        "num_epochs=100\n",
        "loss_values=[]\n",
        "\n",
        "for epoch in range(num_epochs):\n",
        "  lr_model.train()\n",
        "  optimizer.zero_grad()\n",
        "  outputs=lr_model(X_train)\n",
        "  loss=criterion(outputs,y_train)\n",
        "  loss.backward()\n",
        "  optimizer.step()\n",
        "\n",
        "  loss_values.append(loss.item())\n",
        "\n",
        "  if(epoch+1)%10==0:\n",
        "    print(f'Epoch [{epoch+1}/{num_epochs}], Loss: {loss.item():.4f}')\n"
      ],
      "metadata": {
        "id": "J37CJ7Wi5U3W",
        "outputId": "3c30aa77-ec12-4a57-e9b8-5fc87d8f8add",
        "colab": {
          "base_uri": "https://localhost:8080/"
        }
      },
      "execution_count": null,
      "outputs": [
        {
          "output_type": "stream",
          "name": "stdout",
          "text": [
            "Epoch [10/100], Loss: 1.1736\n",
            "Epoch [20/100], Loss: 1.1199\n",
            "Epoch [30/100], Loss: 1.0710\n",
            "Epoch [40/100], Loss: 1.0266\n",
            "Epoch [50/100], Loss: 0.9863\n",
            "Epoch [60/100], Loss: 0.9496\n",
            "Epoch [70/100], Loss: 0.9163\n",
            "Epoch [80/100], Loss: 0.8861\n",
            "Epoch [90/100], Loss: 0.8586\n",
            "Epoch [100/100], Loss: 0.8336\n"
          ]
        }
      ]
    },
    {
      "cell_type": "code",
      "source": [
        "plt.plot(range(num_epochs),loss_values)\n",
        "plt.xlabel('Epoch')\n",
        "plt.ylabel('Loss')\n",
        "plt.title('Training Loss Over Epochs')\n",
        "plt.show()"
      ],
      "metadata": {
        "id": "EVSYY9t36sN0",
        "outputId": "3040ec89-883a-4d20-89e2-babec611e146",
        "colab": {
          "base_uri": "https://localhost:8080/",
          "height": 472
        }
      },
      "execution_count": null,
      "outputs": [
        {
          "output_type": "display_data",
          "data": {
            "text/plain": [
              "<Figure size 640x480 with 1 Axes>"
            ],
            "image/png": "[encoded data removed]"
          },
          "metadata": {}
        }
      ]
    },
    {
      "cell_type": "code",
      "source": [
        "lr_model.eval()\n",
        "with torch.no_grad():\n",
        "  predictions=lr_model(X_test)"
      ],
      "metadata": {
        "id": "0hQEG8x87DYm"
      },
      "execution_count": null,
      "outputs": []
    },
    {
      "cell_type": "code",
      "source": [
        "predictions"
      ],
      "metadata": {
        "id": "TdWq_Az47cl9",
        "outputId": "95fb83bd-a3f9-42fb-a860-83ccc830f8fa",
        "colab": {
          "base_uri": "https://localhost:8080/"
        }
      },
      "execution_count": null,
      "outputs": [
        {
          "output_type": "execute_result",
          "data": {
            "text/plain": [
              "tensor([[18.0339],\n",
              "        [11.5712],\n",
              "        [15.2334],\n",
              "        [ 9.8478],\n",
              "        [ 9.6324],\n",
              "        [ 8.5553],\n",
              "        [ 4.8931],\n",
              "        [17.3877],\n",
              "        [ 2.3080],\n",
              "        [ 0.1538],\n",
              "        [ 4.0314],\n",
              "        [ 6.6165],\n",
              "        [15.8797],\n",
              "        [ 7.2628],\n",
              "        [19.5419],\n",
              "        [ 1.0155],\n",
              "        [16.5260],\n",
              "        [16.7414],\n",
              "        [ 2.7389],\n",
              "        [ 6.8319]])"
            ]
          },
          "metadata": {},
          "execution_count": 32
        }
      ]
    },
    {
      "cell_type": "code",
      "source": [
        "plt.scatter(X_test.numpy(),y_test.numpy(),label='Test Data',color='blue')\n",
        "plt.scatter(X_test.numpy(),predictions.numpy(),label='Model Prediction',color='red')\n",
        "plt.title('Test data vs Model Prediction')\n",
        "plt.xlabel('X')\n",
        "plt.ylabel('y')\n",
        "plt.legend()\n",
        "plt.show()"
      ],
      "metadata": {
        "id": "s4i-kYwq7eBl",
        "outputId": "0428b950-b448-456c-887c-95b960592ca0",
        "colab": {
          "base_uri": "https://localhost:8080/",
          "height": 472
        }
      },
      "execution_count": null,
      "outputs": [
        {
          "output_type": "display_data",
          "data": {
            "text/plain": [
              "<Figure size 640x480 with 1 Axes>"
            ],
            "image/png": "[encoded data removed]"
          },
          "metadata": {}
        }
      ]
    },
    {
      "cell_type": "code",
      "source": [],
      "metadata": {
        "id": "Jv8j6O0671do"
      },
      "execution_count": null,
      "outputs": []
    }
  ],
  "metadata": {
    "colab": {
      "toc_visible": true,
      "provenance": [],
      "gpuType": "T4",
      "include_colab_link": true
    },
    "kernelspec": {
      "display_name": "Python 3",
      "name": "python3"
    },
    "accelerator": "GPU"
  },
  "nbformat": 4,
  "nbformat_minor": 0
}